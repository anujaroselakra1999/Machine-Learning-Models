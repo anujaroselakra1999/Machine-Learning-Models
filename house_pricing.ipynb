{
  "nbformat": 4,
  "nbformat_minor": 0,
  "metadata": {
    "colab": {
      "name": "house_pricing.ipynb",
      "provenance": [],
      "authorship_tag": "ABX9TyN8c6Cx/Bue9UISEAC4l84C",
      "include_colab_link": true
    },
    "kernelspec": {
      "name": "python3",
      "display_name": "Python 3"
    }
  },
  "cells": [
    {
      "cell_type": "markdown",
      "metadata": {
        "id": "view-in-github",
        "colab_type": "text"
      },
      "source": [
        "<a href=\"https://colab.research.google.com/github/anujaroselakra1999/Machine-Learning-Models/blob/main/house_pricing.ipynb\" target=\"_parent\"><img src=\"https://colab.research.google.com/assets/colab-badge.svg\" alt=\"Open In Colab\"/></a>"
      ]
    },
    {
      "cell_type": "code",
      "metadata": {
        "id": "McD7EpWlEBUe"
      },
      "source": [
        "import numpy as np\n",
        "import pandas as pd\n",
        "import matplotlib.pyplot as plt"
      ],
      "execution_count": null,
      "outputs": []
    },
    {
      "cell_type": "code",
      "metadata": {
        "id": "Q8UWUPs3EQ21"
      },
      "source": [
        "from sklearn.datasets import load_boston"
      ],
      "execution_count": null,
      "outputs": []
    },
    {
      "cell_type": "code",
      "metadata": {
        "id": "-WqMZGf_EXpv"
      },
      "source": [
        "df = load_boston()"
      ],
      "execution_count": null,
      "outputs": []
    },
    {
      "cell_type": "code",
      "metadata": {
        "id": "8TYwbTPAE_6i",
        "outputId": "854db812-7165-46a9-ac64-fa2863ee8800",
        "colab": {
          "base_uri": "https://localhost:8080/",
          "height": 1000
        }
      },
      "source": [
        "print(df)"
      ],
      "execution_count": null,
      "outputs": [
        {
          "output_type": "stream",
          "text": [
            "{'data': array([[6.3200e-03, 1.8000e+01, 2.3100e+00, ..., 1.5300e+01, 3.9690e+02,\n",
            "        4.9800e+00],\n",
            "       [2.7310e-02, 0.0000e+00, 7.0700e+00, ..., 1.7800e+01, 3.9690e+02,\n",
            "        9.1400e+00],\n",
            "       [2.7290e-02, 0.0000e+00, 7.0700e+00, ..., 1.7800e+01, 3.9283e+02,\n",
            "        4.0300e+00],\n",
            "       ...,\n",
            "       [6.0760e-02, 0.0000e+00, 1.1930e+01, ..., 2.1000e+01, 3.9690e+02,\n",
            "        5.6400e+00],\n",
            "       [1.0959e-01, 0.0000e+00, 1.1930e+01, ..., 2.1000e+01, 3.9345e+02,\n",
            "        6.4800e+00],\n",
            "       [4.7410e-02, 0.0000e+00, 1.1930e+01, ..., 2.1000e+01, 3.9690e+02,\n",
            "        7.8800e+00]]), 'target': array([24. , 21.6, 34.7, 33.4, 36.2, 28.7, 22.9, 27.1, 16.5, 18.9, 15. ,\n",
            "       18.9, 21.7, 20.4, 18.2, 19.9, 23.1, 17.5, 20.2, 18.2, 13.6, 19.6,\n",
            "       15.2, 14.5, 15.6, 13.9, 16.6, 14.8, 18.4, 21. , 12.7, 14.5, 13.2,\n",
            "       13.1, 13.5, 18.9, 20. , 21. , 24.7, 30.8, 34.9, 26.6, 25.3, 24.7,\n",
            "       21.2, 19.3, 20. , 16.6, 14.4, 19.4, 19.7, 20.5, 25. , 23.4, 18.9,\n",
            "       35.4, 24.7, 31.6, 23.3, 19.6, 18.7, 16. , 22.2, 25. , 33. , 23.5,\n",
            "       19.4, 22. , 17.4, 20.9, 24.2, 21.7, 22.8, 23.4, 24.1, 21.4, 20. ,\n",
            "       20.8, 21.2, 20.3, 28. , 23.9, 24.8, 22.9, 23.9, 26.6, 22.5, 22.2,\n",
            "       23.6, 28.7, 22.6, 22. , 22.9, 25. , 20.6, 28.4, 21.4, 38.7, 43.8,\n",
            "       33.2, 27.5, 26.5, 18.6, 19.3, 20.1, 19.5, 19.5, 20.4, 19.8, 19.4,\n",
            "       21.7, 22.8, 18.8, 18.7, 18.5, 18.3, 21.2, 19.2, 20.4, 19.3, 22. ,\n",
            "       20.3, 20.5, 17.3, 18.8, 21.4, 15.7, 16.2, 18. , 14.3, 19.2, 19.6,\n",
            "       23. , 18.4, 15.6, 18.1, 17.4, 17.1, 13.3, 17.8, 14. , 14.4, 13.4,\n",
            "       15.6, 11.8, 13.8, 15.6, 14.6, 17.8, 15.4, 21.5, 19.6, 15.3, 19.4,\n",
            "       17. , 15.6, 13.1, 41.3, 24.3, 23.3, 27. , 50. , 50. , 50. , 22.7,\n",
            "       25. , 50. , 23.8, 23.8, 22.3, 17.4, 19.1, 23.1, 23.6, 22.6, 29.4,\n",
            "       23.2, 24.6, 29.9, 37.2, 39.8, 36.2, 37.9, 32.5, 26.4, 29.6, 50. ,\n",
            "       32. , 29.8, 34.9, 37. , 30.5, 36.4, 31.1, 29.1, 50. , 33.3, 30.3,\n",
            "       34.6, 34.9, 32.9, 24.1, 42.3, 48.5, 50. , 22.6, 24.4, 22.5, 24.4,\n",
            "       20. , 21.7, 19.3, 22.4, 28.1, 23.7, 25. , 23.3, 28.7, 21.5, 23. ,\n",
            "       26.7, 21.7, 27.5, 30.1, 44.8, 50. , 37.6, 31.6, 46.7, 31.5, 24.3,\n",
            "       31.7, 41.7, 48.3, 29. , 24. , 25.1, 31.5, 23.7, 23.3, 22. , 20.1,\n",
            "       22.2, 23.7, 17.6, 18.5, 24.3, 20.5, 24.5, 26.2, 24.4, 24.8, 29.6,\n",
            "       42.8, 21.9, 20.9, 44. , 50. , 36. , 30.1, 33.8, 43.1, 48.8, 31. ,\n",
            "       36.5, 22.8, 30.7, 50. , 43.5, 20.7, 21.1, 25.2, 24.4, 35.2, 32.4,\n",
            "       32. , 33.2, 33.1, 29.1, 35.1, 45.4, 35.4, 46. , 50. , 32.2, 22. ,\n",
            "       20.1, 23.2, 22.3, 24.8, 28.5, 37.3, 27.9, 23.9, 21.7, 28.6, 27.1,\n",
            "       20.3, 22.5, 29. , 24.8, 22. , 26.4, 33.1, 36.1, 28.4, 33.4, 28.2,\n",
            "       22.8, 20.3, 16.1, 22.1, 19.4, 21.6, 23.8, 16.2, 17.8, 19.8, 23.1,\n",
            "       21. , 23.8, 23.1, 20.4, 18.5, 25. , 24.6, 23. , 22.2, 19.3, 22.6,\n",
            "       19.8, 17.1, 19.4, 22.2, 20.7, 21.1, 19.5, 18.5, 20.6, 19. , 18.7,\n",
            "       32.7, 16.5, 23.9, 31.2, 17.5, 17.2, 23.1, 24.5, 26.6, 22.9, 24.1,\n",
            "       18.6, 30.1, 18.2, 20.6, 17.8, 21.7, 22.7, 22.6, 25. , 19.9, 20.8,\n",
            "       16.8, 21.9, 27.5, 21.9, 23.1, 50. , 50. , 50. , 50. , 50. , 13.8,\n",
            "       13.8, 15. , 13.9, 13.3, 13.1, 10.2, 10.4, 10.9, 11.3, 12.3,  8.8,\n",
            "        7.2, 10.5,  7.4, 10.2, 11.5, 15.1, 23.2,  9.7, 13.8, 12.7, 13.1,\n",
            "       12.5,  8.5,  5. ,  6.3,  5.6,  7.2, 12.1,  8.3,  8.5,  5. , 11.9,\n",
            "       27.9, 17.2, 27.5, 15. , 17.2, 17.9, 16.3,  7. ,  7.2,  7.5, 10.4,\n",
            "        8.8,  8.4, 16.7, 14.2, 20.8, 13.4, 11.7,  8.3, 10.2, 10.9, 11. ,\n",
            "        9.5, 14.5, 14.1, 16.1, 14.3, 11.7, 13.4,  9.6,  8.7,  8.4, 12.8,\n",
            "       10.5, 17.1, 18.4, 15.4, 10.8, 11.8, 14.9, 12.6, 14.1, 13. , 13.4,\n",
            "       15.2, 16.1, 17.8, 14.9, 14.1, 12.7, 13.5, 14.9, 20. , 16.4, 17.7,\n",
            "       19.5, 20.2, 21.4, 19.9, 19. , 19.1, 19.1, 20.1, 19.9, 19.6, 23.2,\n",
            "       29.8, 13.8, 13.3, 16.7, 12. , 14.6, 21.4, 23. , 23.7, 25. , 21.8,\n",
            "       20.6, 21.2, 19.1, 20.6, 15.2,  7. ,  8.1, 13.6, 20.1, 21.8, 24.5,\n",
            "       23.1, 19.7, 18.3, 21.2, 17.5, 16.8, 22.4, 20.6, 23.9, 22. , 11.9]), 'feature_names': array(['CRIM', 'ZN', 'INDUS', 'CHAS', 'NOX', 'RM', 'AGE', 'DIS', 'RAD',\n",
            "       'TAX', 'PTRATIO', 'B', 'LSTAT'], dtype='<U7'), 'DESCR': \".. _boston_dataset:\\n\\nBoston house prices dataset\\n---------------------------\\n\\n**Data Set Characteristics:**  \\n\\n    :Number of Instances: 506 \\n\\n    :Number of Attributes: 13 numeric/categorical predictive. Median Value (attribute 14) is usually the target.\\n\\n    :Attribute Information (in order):\\n        - CRIM     per capita crime rate by town\\n        - ZN       proportion of residential land zoned for lots over 25,000 sq.ft.\\n        - INDUS    proportion of non-retail business acres per town\\n        - CHAS     Charles River dummy variable (= 1 if tract bounds river; 0 otherwise)\\n        - NOX      nitric oxides concentration (parts per 10 million)\\n        - RM       average number of rooms per dwelling\\n        - AGE      proportion of owner-occupied units built prior to 1940\\n        - DIS      weighted distances to five Boston employment centres\\n        - RAD      index of accessibility to radial highways\\n        - TAX      full-value property-tax rate per $10,000\\n        - PTRATIO  pupil-teacher ratio by town\\n        - B        1000(Bk - 0.63)^2 where Bk is the proportion of blacks by town\\n        - LSTAT    % lower status of the population\\n        - MEDV     Median value of owner-occupied homes in $1000's\\n\\n    :Missing Attribute Values: None\\n\\n    :Creator: Harrison, D. and Rubinfeld, D.L.\\n\\nThis is a copy of UCI ML housing dataset.\\nhttps://archive.ics.uci.edu/ml/machine-learning-databases/housing/\\n\\n\\nThis dataset was taken from the StatLib library which is maintained at Carnegie Mellon University.\\n\\nThe Boston house-price data of Harrison, D. and Rubinfeld, D.L. 'Hedonic\\nprices and the demand for clean air', J. Environ. Economics & Management,\\nvol.5, 81-102, 1978.   Used in Belsley, Kuh & Welsch, 'Regression diagnostics\\n...', Wiley, 1980.   N.B. Various transformations are used in the table on\\npages 244-261 of the latter.\\n\\nThe Boston house-price data has been used in many machine learning papers that address regression\\nproblems.   \\n     \\n.. topic:: References\\n\\n   - Belsley, Kuh & Welsch, 'Regression diagnostics: Identifying Influential Data and Sources of Collinearity', Wiley, 1980. 244-261.\\n   - Quinlan,R. (1993). Combining Instance-Based and Model-Based Learning. In Proceedings on the Tenth International Conference of Machine Learning, 236-243, University of Massachusetts, Amherst. Morgan Kaufmann.\\n\", 'filename': '/usr/local/lib/python3.6/dist-packages/sklearn/datasets/data/boston_house_prices.csv'}\n"
          ],
          "name": "stdout"
        }
      ]
    },
    {
      "cell_type": "code",
      "metadata": {
        "id": "zIGvSMgUFIQ_"
      },
      "source": [
        "x = df['data']\n",
        "y = df['target']"
      ],
      "execution_count": null,
      "outputs": []
    },
    {
      "cell_type": "code",
      "metadata": {
        "id": "v3JO21KCF1qt",
        "outputId": "2ff14aff-876e-40bd-908b-b572fcd864a0",
        "colab": {
          "base_uri": "https://localhost:8080/",
          "height": 136
        }
      },
      "source": [
        "print(x)"
      ],
      "execution_count": null,
      "outputs": [
        {
          "output_type": "stream",
          "text": [
            "[[6.3200e-03 1.8000e+01 2.3100e+00 ... 1.5300e+01 3.9690e+02 4.9800e+00]\n",
            " [2.7310e-02 0.0000e+00 7.0700e+00 ... 1.7800e+01 3.9690e+02 9.1400e+00]\n",
            " [2.7290e-02 0.0000e+00 7.0700e+00 ... 1.7800e+01 3.9283e+02 4.0300e+00]\n",
            " ...\n",
            " [6.0760e-02 0.0000e+00 1.1930e+01 ... 2.1000e+01 3.9690e+02 5.6400e+00]\n",
            " [1.0959e-01 0.0000e+00 1.1930e+01 ... 2.1000e+01 3.9345e+02 6.4800e+00]\n",
            " [4.7410e-02 0.0000e+00 1.1930e+01 ... 2.1000e+01 3.9690e+02 7.8800e+00]]\n"
          ],
          "name": "stdout"
        }
      ]
    },
    {
      "cell_type": "code",
      "metadata": {
        "id": "S7jOadwNF53k",
        "outputId": "cf84641e-44ed-4a16-8afa-834a59f137f4",
        "colab": {
          "base_uri": "https://localhost:8080/",
          "height": 646
        }
      },
      "source": [
        "print(y)"
      ],
      "execution_count": null,
      "outputs": [
        {
          "output_type": "stream",
          "text": [
            "[24.  21.6 34.7 33.4 36.2 28.7 22.9 27.1 16.5 18.9 15.  18.9 21.7 20.4\n",
            " 18.2 19.9 23.1 17.5 20.2 18.2 13.6 19.6 15.2 14.5 15.6 13.9 16.6 14.8\n",
            " 18.4 21.  12.7 14.5 13.2 13.1 13.5 18.9 20.  21.  24.7 30.8 34.9 26.6\n",
            " 25.3 24.7 21.2 19.3 20.  16.6 14.4 19.4 19.7 20.5 25.  23.4 18.9 35.4\n",
            " 24.7 31.6 23.3 19.6 18.7 16.  22.2 25.  33.  23.5 19.4 22.  17.4 20.9\n",
            " 24.2 21.7 22.8 23.4 24.1 21.4 20.  20.8 21.2 20.3 28.  23.9 24.8 22.9\n",
            " 23.9 26.6 22.5 22.2 23.6 28.7 22.6 22.  22.9 25.  20.6 28.4 21.4 38.7\n",
            " 43.8 33.2 27.5 26.5 18.6 19.3 20.1 19.5 19.5 20.4 19.8 19.4 21.7 22.8\n",
            " 18.8 18.7 18.5 18.3 21.2 19.2 20.4 19.3 22.  20.3 20.5 17.3 18.8 21.4\n",
            " 15.7 16.2 18.  14.3 19.2 19.6 23.  18.4 15.6 18.1 17.4 17.1 13.3 17.8\n",
            " 14.  14.4 13.4 15.6 11.8 13.8 15.6 14.6 17.8 15.4 21.5 19.6 15.3 19.4\n",
            " 17.  15.6 13.1 41.3 24.3 23.3 27.  50.  50.  50.  22.7 25.  50.  23.8\n",
            " 23.8 22.3 17.4 19.1 23.1 23.6 22.6 29.4 23.2 24.6 29.9 37.2 39.8 36.2\n",
            " 37.9 32.5 26.4 29.6 50.  32.  29.8 34.9 37.  30.5 36.4 31.1 29.1 50.\n",
            " 33.3 30.3 34.6 34.9 32.9 24.1 42.3 48.5 50.  22.6 24.4 22.5 24.4 20.\n",
            " 21.7 19.3 22.4 28.1 23.7 25.  23.3 28.7 21.5 23.  26.7 21.7 27.5 30.1\n",
            " 44.8 50.  37.6 31.6 46.7 31.5 24.3 31.7 41.7 48.3 29.  24.  25.1 31.5\n",
            " 23.7 23.3 22.  20.1 22.2 23.7 17.6 18.5 24.3 20.5 24.5 26.2 24.4 24.8\n",
            " 29.6 42.8 21.9 20.9 44.  50.  36.  30.1 33.8 43.1 48.8 31.  36.5 22.8\n",
            " 30.7 50.  43.5 20.7 21.1 25.2 24.4 35.2 32.4 32.  33.2 33.1 29.1 35.1\n",
            " 45.4 35.4 46.  50.  32.2 22.  20.1 23.2 22.3 24.8 28.5 37.3 27.9 23.9\n",
            " 21.7 28.6 27.1 20.3 22.5 29.  24.8 22.  26.4 33.1 36.1 28.4 33.4 28.2\n",
            " 22.8 20.3 16.1 22.1 19.4 21.6 23.8 16.2 17.8 19.8 23.1 21.  23.8 23.1\n",
            " 20.4 18.5 25.  24.6 23.  22.2 19.3 22.6 19.8 17.1 19.4 22.2 20.7 21.1\n",
            " 19.5 18.5 20.6 19.  18.7 32.7 16.5 23.9 31.2 17.5 17.2 23.1 24.5 26.6\n",
            " 22.9 24.1 18.6 30.1 18.2 20.6 17.8 21.7 22.7 22.6 25.  19.9 20.8 16.8\n",
            " 21.9 27.5 21.9 23.1 50.  50.  50.  50.  50.  13.8 13.8 15.  13.9 13.3\n",
            " 13.1 10.2 10.4 10.9 11.3 12.3  8.8  7.2 10.5  7.4 10.2 11.5 15.1 23.2\n",
            "  9.7 13.8 12.7 13.1 12.5  8.5  5.   6.3  5.6  7.2 12.1  8.3  8.5  5.\n",
            " 11.9 27.9 17.2 27.5 15.  17.2 17.9 16.3  7.   7.2  7.5 10.4  8.8  8.4\n",
            " 16.7 14.2 20.8 13.4 11.7  8.3 10.2 10.9 11.   9.5 14.5 14.1 16.1 14.3\n",
            " 11.7 13.4  9.6  8.7  8.4 12.8 10.5 17.1 18.4 15.4 10.8 11.8 14.9 12.6\n",
            " 14.1 13.  13.4 15.2 16.1 17.8 14.9 14.1 12.7 13.5 14.9 20.  16.4 17.7\n",
            " 19.5 20.2 21.4 19.9 19.  19.1 19.1 20.1 19.9 19.6 23.2 29.8 13.8 13.3\n",
            " 16.7 12.  14.6 21.4 23.  23.7 25.  21.8 20.6 21.2 19.1 20.6 15.2  7.\n",
            "  8.1 13.6 20.1 21.8 24.5 23.1 19.7 18.3 21.2 17.5 16.8 22.4 20.6 23.9\n",
            " 22.  11.9]\n"
          ],
          "name": "stdout"
        }
      ]
    },
    {
      "cell_type": "code",
      "metadata": {
        "id": "TE0fO0IcF79N",
        "outputId": "89b59e54-3a80-4347-e36a-4a51d12617b1",
        "colab": {
          "base_uri": "https://localhost:8080/",
          "height": 51
        }
      },
      "source": [
        "print(x.shape)\n",
        "print(y.shape)"
      ],
      "execution_count": null,
      "outputs": [
        {
          "output_type": "stream",
          "text": [
            "(506, 13)\n",
            "(506,)\n"
          ],
          "name": "stdout"
        }
      ]
    },
    {
      "cell_type": "code",
      "metadata": {
        "id": "dTJI4daAGEZQ"
      },
      "source": [
        "from sklearn.model_selection import train_test_split\n",
        "x_train, x_test, y_train, y_test = train_test_split(x, y, test_size = 0.25, random_state = 0)"
      ],
      "execution_count": null,
      "outputs": []
    },
    {
      "cell_type": "markdown",
      "metadata": {
        "id": "wIymE-J8L8FO"
      },
      "source": [
        "Multiple Linear Regression"
      ]
    },
    {
      "cell_type": "code",
      "metadata": {
        "id": "pKvpagoMG0zt",
        "outputId": "36ca2c0b-56aa-4eee-ad8f-57eec04aea51",
        "colab": {
          "base_uri": "https://localhost:8080/",
          "height": 34
        }
      },
      "source": [
        "from sklearn.linear_model import LinearRegression\n",
        "regressor_1 = LinearRegression()\n",
        "regressor_1.fit(x_train, y_train)"
      ],
      "execution_count": null,
      "outputs": [
        {
          "output_type": "execute_result",
          "data": {
            "text/plain": [
              "LinearRegression(copy_X=True, fit_intercept=True, n_jobs=None, normalize=False)"
            ]
          },
          "metadata": {
            "tags": []
          },
          "execution_count": 11
        }
      ]
    },
    {
      "cell_type": "code",
      "metadata": {
        "id": "Sk5Z3unqHVEd"
      },
      "source": [
        "y_pred = regressor_1.predict(x_test)"
      ],
      "execution_count": null,
      "outputs": []
    },
    {
      "cell_type": "code",
      "metadata": {
        "id": "_Q6Z8figIihK"
      },
      "source": [
        "np.set_printoptions(precision = 2)\n"
      ],
      "execution_count": null,
      "outputs": []
    },
    {
      "cell_type": "code",
      "metadata": {
        "id": "WuzjUEOWHjmh",
        "outputId": "d84e3bc7-6590-4ea7-c74a-8b1620ea1635",
        "colab": {
          "base_uri": "https://localhost:8080/",
          "height": 34
        }
      },
      "source": [
        "from sklearn.metrics import r2_score\n",
        "print(r2_score(y_test, y_pred))"
      ],
      "execution_count": null,
      "outputs": [
        {
          "output_type": "stream",
          "text": [
            "0.635463843320211\n"
          ],
          "name": "stdout"
        }
      ]
    },
    {
      "cell_type": "markdown",
      "metadata": {
        "id": "h4UYgTe5MIaE"
      },
      "source": [
        "Support Vector Regression"
      ]
    },
    {
      "cell_type": "code",
      "metadata": {
        "id": "2OMmMqZOKcSJ"
      },
      "source": [
        "from sklearn.preprocessing import StandardScaler\n",
        "sc_x = StandardScaler()\n",
        "\n",
        "x_svr = sc_x.fit_transform(x_train)\n"
      ],
      "execution_count": null,
      "outputs": []
    },
    {
      "cell_type": "code",
      "metadata": {
        "id": "39CiBCA7IfmK",
        "outputId": "6009e4bf-2107-46ba-8e3c-765ef931aee6",
        "colab": {
          "base_uri": "https://localhost:8080/",
          "height": 51
        }
      },
      "source": [
        "from sklearn.svm import SVR\n",
        "regressor_2 = SVR(kernel = 'rbf')\n",
        "regressor_2.fit(x_svr, y_train)"
      ],
      "execution_count": null,
      "outputs": [
        {
          "output_type": "execute_result",
          "data": {
            "text/plain": [
              "SVR(C=1.0, cache_size=200, coef0=0.0, degree=3, epsilon=0.1, gamma='scale',\n",
              "    kernel='rbf', max_iter=-1, shrinking=True, tol=0.001, verbose=False)"
            ]
          },
          "metadata": {
            "tags": []
          },
          "execution_count": 16
        }
      ]
    },
    {
      "cell_type": "code",
      "metadata": {
        "id": "mtHmMajUJpYU",
        "outputId": "0675d2dc-8967-40c2-d668-c3a969fecab0",
        "colab": {
          "base_uri": "https://localhost:8080/",
          "height": 1000
        }
      },
      "source": [
        "y_pred1 = regressor_2.predict(sc_x.transform(x_test))\n",
        "np.set_printoptions(precision=2)\n",
        "print(np.concatenate((y_pred1.reshape(len(y_pred1),1), y_test.reshape(len(y_test),1)),1))"
      ],
      "execution_count": null,
      "outputs": [
        {
          "output_type": "stream",
          "text": [
            "[[25.12 22.6 ]\n",
            " [18.92 50.  ]\n",
            " [24.5  23.  ]\n",
            " [13.37  8.3 ]\n",
            " [20.94 21.2 ]\n",
            " [19.44 19.9 ]\n",
            " [20.81 20.6 ]\n",
            " [20.14 18.7 ]\n",
            " [18.95 16.1 ]\n",
            " [18.94 18.6 ]\n",
            " [20.78  8.8 ]\n",
            " [13.25 17.2 ]\n",
            " [14.76 14.9 ]\n",
            " [13.1  10.5 ]\n",
            " [27.11 50.  ]\n",
            " [30.44 29.  ]\n",
            " [21.4  23.  ]\n",
            " [31.76 33.3 ]\n",
            " [28.86 29.4 ]\n",
            " [21.43 21.  ]\n",
            " [23.85 23.8 ]\n",
            " [21.52 19.1 ]\n",
            " [18.91 20.4 ]\n",
            " [27.95 29.1 ]\n",
            " [20.4  19.3 ]\n",
            " [18.05 23.1 ]\n",
            " [17.16 19.6 ]\n",
            " [18.6  19.4 ]\n",
            " [33.88 38.7 ]\n",
            " [18.59 18.7 ]\n",
            " [15.23 14.6 ]\n",
            " [17.31 20.  ]\n",
            " [19.55 20.5 ]\n",
            " [21.21 20.1 ]\n",
            " [25.85 23.6 ]\n",
            " [20.9  16.8 ]\n",
            " [12.04  5.6 ]\n",
            " [22.28 50.  ]\n",
            " [13.94 14.5 ]\n",
            " [13.25 13.3 ]\n",
            " [23.48 23.9 ]\n",
            " [20.14 20.  ]\n",
            " [22.88 19.8 ]\n",
            " [14.98 13.8 ]\n",
            " [25.06 16.5 ]\n",
            " [23.25 21.6 ]\n",
            " [18.86 20.3 ]\n",
            " [20.91 17.  ]\n",
            " [16.88 11.8 ]\n",
            " [23.01 27.5 ]\n",
            " [20.73 15.6 ]\n",
            " [19.71 23.1 ]\n",
            " [21.38 24.3 ]\n",
            " [29.85 42.8 ]\n",
            " [15.22 15.6 ]\n",
            " [21.01 21.7 ]\n",
            " [19.88 17.1 ]\n",
            " [18.35 17.2 ]\n",
            " [19.54 15.  ]\n",
            " [21.6  21.7 ]\n",
            " [20.87 18.6 ]\n",
            " [20.91 21.  ]\n",
            " [31.74 33.1 ]\n",
            " [28.31 31.5 ]\n",
            " [18.34 20.1 ]\n",
            " [29.89 29.8 ]\n",
            " [16.14 15.2 ]\n",
            " [20.04 15.  ]\n",
            " [13.8  27.5 ]\n",
            " [21.95 22.6 ]\n",
            " [20.87 20.  ]\n",
            " [22.86 21.4 ]\n",
            " [26.72 23.5 ]\n",
            " [29.89 31.2 ]\n",
            " [23.04 23.7 ]\n",
            " [12.46  7.4 ]\n",
            " [34.94 48.3 ]\n",
            " [22.75 24.4 ]\n",
            " [25.47 22.6 ]\n",
            " [18.42 18.3 ]\n",
            " [27.56 23.3 ]\n",
            " [18.65 17.1 ]\n",
            " [16.22 27.9 ]\n",
            " [34.57 44.8 ]\n",
            " [33.74 50.  ]\n",
            " [23.66 23.  ]\n",
            " [22.57 21.4 ]\n",
            " [14.96 10.2 ]\n",
            " [23.73 23.3 ]\n",
            " [15.53 23.2 ]\n",
            " [19.7  18.9 ]\n",
            " [11.75 13.4 ]\n",
            " [23.38 21.9 ]\n",
            " [29.32 24.8 ]\n",
            " [20.28 11.9 ]\n",
            " [20.87 24.3 ]\n",
            " [15.27 13.8 ]\n",
            " [24.87 24.7 ]\n",
            " [13.63 14.1 ]\n",
            " [17.27 18.7 ]\n",
            " [24.5  28.1 ]\n",
            " [20.23 19.8 ]\n",
            " [26.69 26.7 ]\n",
            " [21.47 21.7 ]\n",
            " [27.96 22.  ]\n",
            " [21.6  22.9 ]\n",
            " [12.54 10.4 ]\n",
            " [16.74 21.9 ]\n",
            " [20.56 20.6 ]\n",
            " [27.39 26.4 ]\n",
            " [28.32 41.3 ]\n",
            " [12.18 17.2 ]\n",
            " [19.51 27.1 ]\n",
            " [18.83 20.4 ]\n",
            " [16.7  16.5 ]\n",
            " [23.11 24.4 ]\n",
            " [12.37  8.4 ]\n",
            " [19.49 23.  ]\n",
            " [12.33  9.7 ]\n",
            " [27.14 50.  ]\n",
            " [29.86 30.5 ]\n",
            " [12.42 12.3 ]\n",
            " [17.16 19.4 ]\n",
            " [20.29 21.2 ]\n",
            " [20.85 20.3 ]\n",
            " [18.98 18.8 ]\n",
            " [32.62 33.4 ]]\n"
          ],
          "name": "stdout"
        }
      ]
    },
    {
      "cell_type": "code",
      "metadata": {
        "id": "wezw6JfkKFKb",
        "outputId": "7450a8cb-3203-485a-bee2-5a89b1045523",
        "colab": {
          "base_uri": "https://localhost:8080/",
          "height": 34
        }
      },
      "source": [
        "print(r2_score(y_test, y_pred1))"
      ],
      "execution_count": null,
      "outputs": [
        {
          "output_type": "stream",
          "text": [
            "0.5084292459321271\n"
          ],
          "name": "stdout"
        }
      ]
    },
    {
      "cell_type": "markdown",
      "metadata": {
        "id": "mSFP8reLMP3Y"
      },
      "source": [
        "Polynomial Regression"
      ]
    },
    {
      "cell_type": "code",
      "metadata": {
        "id": "sWWNlmNnKTqd",
        "outputId": "296777a0-2e5a-45a5-c507-3bdb303487f8",
        "colab": {
          "base_uri": "https://localhost:8080/",
          "height": 34
        }
      },
      "source": [
        "from sklearn.preprocessing import PolynomialFeatures\n",
        "pf = PolynomialFeatures(degree = 2)\n",
        "x_poly = pf.fit_transform(x_train)\n",
        "regressor_3 = LinearRegression()\n",
        "regressor_3.fit(x_poly, y_train)"
      ],
      "execution_count": null,
      "outputs": [
        {
          "output_type": "execute_result",
          "data": {
            "text/plain": [
              "LinearRegression(copy_X=True, fit_intercept=True, n_jobs=None, normalize=False)"
            ]
          },
          "metadata": {
            "tags": []
          },
          "execution_count": 35
        }
      ]
    },
    {
      "cell_type": "code",
      "metadata": {
        "id": "vhCPcTdMrYzJ",
        "outputId": "32d8be9d-bf87-4644-da02-578cd916e317",
        "colab": {
          "base_uri": "https://localhost:8080/",
          "height": 1000
        }
      },
      "source": [
        "y_pred2 = regressor_3.predict(pf.transform(x_test))\n",
        "np.set_printoptions(precision=2)\n",
        "print(np.concatenate((y_pred2.reshape(len(y_pred2),1), y_test.reshape(len(y_test),1)),1))"
      ],
      "execution_count": null,
      "outputs": [
        {
          "output_type": "stream",
          "text": [
            "[[ 26.23  22.6 ]\n",
            " [ 25.52  50.  ]\n",
            " [ 26.47  23.  ]\n",
            " [ 10.2    8.3 ]\n",
            " [ 21.91  21.2 ]\n",
            " [ 17.09  19.9 ]\n",
            " [ 18.91  20.6 ]\n",
            " [ 19.53  18.7 ]\n",
            " [ 10.49  16.1 ]\n",
            " [  9.75  18.6 ]\n",
            " [ -0.35   8.8 ]\n",
            " [  6.9   17.2 ]\n",
            " [ 14.54  14.9 ]\n",
            " [  8.69  10.5 ]\n",
            " [ 46.88  50.  ]\n",
            " [ 32.01  29.  ]\n",
            " [ 21.84  23.  ]\n",
            " [ 40.78  33.3 ]\n",
            " [ 30.42  29.4 ]\n",
            " [ 20.18  21.  ]\n",
            " [ 24.85  23.8 ]\n",
            " [ 21.84  19.1 ]\n",
            " [ 22.11  20.4 ]\n",
            " [ 26.1   29.1 ]\n",
            " [ 16.89  19.3 ]\n",
            " [ 31.71  23.1 ]\n",
            " [ 16.43  19.6 ]\n",
            " [ 19.34  19.4 ]\n",
            " [ 36.35  38.7 ]\n",
            " [ 15.9   18.7 ]\n",
            " [ 16.14  14.6 ]\n",
            " [ 18.12  20.  ]\n",
            " [ 18.26  20.5 ]\n",
            " [ 21.27  20.1 ]\n",
            " [ 26.68  23.6 ]\n",
            " [ 18.9   16.8 ]\n",
            " [  8.68   5.6 ]\n",
            " [ 37.19  50.  ]\n",
            " [ 13.65  14.5 ]\n",
            " [ 12.06  13.3 ]\n",
            " [ 25.26  23.9 ]\n",
            " [ 19.99  20.  ]\n",
            " [ 22.86  19.8 ]\n",
            " [ 18.8   13.8 ]\n",
            " [ 18.32  16.5 ]\n",
            " [ 21.57  21.6 ]\n",
            " [ 21.95  20.3 ]\n",
            " [  7.23  17.  ]\n",
            " [ 11.02  11.8 ]\n",
            " [ 23.75  27.5 ]\n",
            " [-21.41  15.6 ]\n",
            " [ 21.27  23.1 ]\n",
            " [ 21.59  24.3 ]\n",
            " [ 59.01  42.8 ]\n",
            " [  3.77  15.6 ]\n",
            " [ 21.8   21.7 ]\n",
            " [ 16.01  17.1 ]\n",
            " [ 17.54  17.2 ]\n",
            " [ 11.7   15.  ]\n",
            " [ 17.24  21.7 ]\n",
            " [ 27.41  18.6 ]\n",
            " [ 21.36  21.  ]\n",
            " [ 30.85  33.1 ]\n",
            " [ 28.05  31.5 ]\n",
            " [ 12.8   20.1 ]\n",
            " [ 29.06  29.8 ]\n",
            " [ 15.38  15.2 ]\n",
            " [ 20.62  15.  ]\n",
            " [ 11.01  27.5 ]\n",
            " [ 19.44  22.6 ]\n",
            " [ 19.4   20.  ]\n",
            " [ 23.21  21.4 ]\n",
            " [ 27.62  23.5 ]\n",
            " [ 26.04  31.2 ]\n",
            " [ 26.52  23.7 ]\n",
            " [  7.     7.4 ]\n",
            " [ 43.09  48.3 ]\n",
            " [ 24.97  24.4 ]\n",
            " [ 26.81  22.6 ]\n",
            " [ 18.38  18.3 ]\n",
            " [ 25.93  23.3 ]\n",
            " [ 19.12  17.1 ]\n",
            " [ 22.04  27.9 ]\n",
            " [ 42.6   44.8 ]\n",
            " [ 45.    50.  ]\n",
            " [ 23.88  23.  ]\n",
            " [ 24.09  21.4 ]\n",
            " [ 17.41  10.2 ]\n",
            " [ 32.34  23.3 ]\n",
            " [ 15.01  23.2 ]\n",
            " [ 21.61  18.9 ]\n",
            " [  9.96  13.4 ]\n",
            " [ 25.22  21.9 ]\n",
            " [ 31.21  24.8 ]\n",
            " [ 16.83  11.9 ]\n",
            " [ 23.07  24.3 ]\n",
            " [ 11.79  13.8 ]\n",
            " [ 30.49  24.7 ]\n",
            " [ 14.5   14.1 ]\n",
            " [ 17.89  18.7 ]\n",
            " [ 26.79  28.1 ]\n",
            " [ 20.41  19.8 ]\n",
            " [ 28.79  26.7 ]\n",
            " [ 20.56  21.7 ]\n",
            " [ 27.39  22.  ]\n",
            " [ 20.91  22.9 ]\n",
            " [ 10.06  10.4 ]\n",
            " [ 21.23  21.9 ]\n",
            " [ 18.06  20.6 ]\n",
            " [ 23.03  26.4 ]\n",
            " [ 36.69  41.3 ]\n",
            " [ 12.31  17.2 ]\n",
            " [ 18.28  27.1 ]\n",
            " [ 19.62  20.4 ]\n",
            " [ 17.67  16.5 ]\n",
            " [ 19.95  24.4 ]\n",
            " [ 11.4    8.4 ]\n",
            " [ 19.67  23.  ]\n",
            " [ 11.31   9.7 ]\n",
            " [ 59.16  50.  ]\n",
            " [ 28.71  30.5 ]\n",
            " [ 11.19  12.3 ]\n",
            " [ 17.58  19.4 ]\n",
            " [ 20.61  21.2 ]\n",
            " [ 19.85  20.3 ]\n",
            " [ 19.32  18.8 ]\n",
            " [ 39.47  33.4 ]]\n"
          ],
          "name": "stdout"
        }
      ]
    },
    {
      "cell_type": "code",
      "metadata": {
        "id": "atST6cf2rxbX",
        "outputId": "d3eb17ee-3bf9-42a8-8478-a2f053776596",
        "colab": {
          "base_uri": "https://localhost:8080/",
          "height": 34
        }
      },
      "source": [
        "print(r2_score(y_test, y_pred2))"
      ],
      "execution_count": null,
      "outputs": [
        {
          "output_type": "stream",
          "text": [
            "0.5515683997226908\n"
          ],
          "name": "stdout"
        }
      ]
    },
    {
      "cell_type": "markdown",
      "metadata": {
        "id": "4vfAA6Nqv6CF"
      },
      "source": [
        "Decision Tree"
      ]
    },
    {
      "cell_type": "code",
      "metadata": {
        "id": "46t076F7r3gd",
        "outputId": "d595bc90-92bb-4e0b-c7be-52e856db4483",
        "colab": {
          "base_uri": "https://localhost:8080/",
          "height": 119
        }
      },
      "source": [
        "from sklearn.tree import DecisionTreeRegressor\n",
        "dtr = DecisionTreeRegressor(random_state = 0)\n",
        "dtr.fit(x_train, y_train)"
      ],
      "execution_count": null,
      "outputs": [
        {
          "output_type": "execute_result",
          "data": {
            "text/plain": [
              "DecisionTreeRegressor(ccp_alpha=0.0, criterion='mse', max_depth=None,\n",
              "                      max_features=None, max_leaf_nodes=None,\n",
              "                      min_impurity_decrease=0.0, min_impurity_split=None,\n",
              "                      min_samples_leaf=1, min_samples_split=2,\n",
              "                      min_weight_fraction_leaf=0.0, presort='deprecated',\n",
              "                      random_state=0, splitter='best')"
            ]
          },
          "metadata": {
            "tags": []
          },
          "execution_count": 38
        }
      ]
    },
    {
      "cell_type": "code",
      "metadata": {
        "id": "gcJEBMriw0hd",
        "outputId": "c3aca62b-f9fd-452e-8dc7-4db205b81aab",
        "colab": {
          "base_uri": "https://localhost:8080/",
          "height": 1000
        }
      },
      "source": [
        "y_pred3 = dtr.predict(x_test)\n",
        "np.set_printoptions(precision=2)\n",
        "print(np.concatenate((y_pred3.reshape(len(y_pred3),1), y_test.reshape(len(y_test),1)),1))"
      ],
      "execution_count": null,
      "outputs": [
        {
          "output_type": "stream",
          "text": [
            "[[23.7 22.6]\n",
            " [24.7 50. ]\n",
            " [23.3 23. ]\n",
            " [16.3  8.3]\n",
            " [21.1 21.2]\n",
            " [20.4 19.9]\n",
            " [20.6 20.6]\n",
            " [20.5 18.7]\n",
            " [15.3 16.1]\n",
            " [16.1 18.6]\n",
            " [10.5  8.8]\n",
            " [17.9 17.2]\n",
            " [14.2 14.9]\n",
            " [ 7.2 10.5]\n",
            " [50.  50. ]\n",
            " [37.  29. ]\n",
            " [21.4 23. ]\n",
            " [34.9 33.3]\n",
            " [24.1 29.4]\n",
            " [20.3 21. ]\n",
            " [24.7 23.8]\n",
            " [17.4 19.1]\n",
            " [20.1 20.4]\n",
            " [24.7 29.1]\n",
            " [22.2 19.3]\n",
            " [10.9 23.1]\n",
            " [14.5 19.6]\n",
            " [17.8 19.4]\n",
            " [39.8 38.7]\n",
            " [18.3 18.7]\n",
            " [14.1 14.6]\n",
            " [19.1 20. ]\n",
            " [24.7 20.5]\n",
            " [22.2 20.1]\n",
            " [22.4 23.6]\n",
            " [21.7 16.8]\n",
            " [10.2  5.6]\n",
            " [22.6 50. ]\n",
            " [12.1 14.5]\n",
            " [17.9 13.3]\n",
            " [23.9 23.9]\n",
            " [24.5 20. ]\n",
            " [22.  19.8]\n",
            " [14.1 13.8]\n",
            " [29.6 16.5]\n",
            " [20.5 21.6]\n",
            " [22.4 20.3]\n",
            " [13.5 17. ]\n",
            " [13.4 11.8]\n",
            " [28.7 27.5]\n",
            " [13.2 15.6]\n",
            " [19.8 23.1]\n",
            " [23.8 24.3]\n",
            " [21.9 42.8]\n",
            " [14.8 15.6]\n",
            " [18.9 21.7]\n",
            " [19.7 17.1]\n",
            " [17.5 17.2]\n",
            " [10.9 15. ]\n",
            " [22.4 21.7]\n",
            " [20.6 18.6]\n",
            " [22.2 21. ]\n",
            " [31.5 33.1]\n",
            " [22.8 31.5]\n",
            " [23.2 20.1]\n",
            " [22.8 29.8]\n",
            " [18.4 15.2]\n",
            " [18.9 15. ]\n",
            " [10.4 27.5]\n",
            " [22.2 22.6]\n",
            " [21.1 20. ]\n",
            " [22.2 21.4]\n",
            " [24.8 23.5]\n",
            " [30.1 31.2]\n",
            " [26.5 23.7]\n",
            " [ 7.2  7.4]\n",
            " [41.7 48.3]\n",
            " [23.1 24.4]\n",
            " [22.  22.6]\n",
            " [24.5 18.3]\n",
            " [30.1 23.3]\n",
            " [14.5 17.1]\n",
            " [20.8 27.9]\n",
            " [37.6 44.8]\n",
            " [37.6 50. ]\n",
            " [25.  23. ]\n",
            " [22.  21.4]\n",
            " [13.8 10.2]\n",
            " [24.3 23.3]\n",
            " [16.7 23.2]\n",
            " [16.6 18.9]\n",
            " [11.8 13.4]\n",
            " [20.6 21.9]\n",
            " [30.1 24.8]\n",
            " [21.1 11.9]\n",
            " [24.7 24.3]\n",
            " [10.2 13.8]\n",
            " [22.9 24.7]\n",
            " [12.7 14.1]\n",
            " [16.  18.7]\n",
            " [25.  28.1]\n",
            " [20.1 19.8]\n",
            " [30.3 26.7]\n",
            " [24.5 21.7]\n",
            " [21.  22. ]\n",
            " [18.9 22.9]\n",
            " [ 7.2 10.4]\n",
            " [15.3 21.9]\n",
            " [23.9 20.6]\n",
            " [22.2 26.4]\n",
            " [36.4 41.3]\n",
            " [17.9 17.2]\n",
            " [18.9 27.1]\n",
            " [19.8 20.4]\n",
            " [18.5 16.5]\n",
            " [21.1 24.4]\n",
            " [ 8.5  8.4]\n",
            " [19.2 23. ]\n",
            " [ 7.   9.7]\n",
            " [50.  50. ]\n",
            " [30.1 30.5]\n",
            " [ 7.2 12.3]\n",
            " [14.4 19.4]\n",
            " [21.2 21.2]\n",
            " [25.  20.3]\n",
            " [20.5 18.8]\n",
            " [37.9 33.4]]\n"
          ],
          "name": "stdout"
        }
      ]
    },
    {
      "cell_type": "code",
      "metadata": {
        "id": "7oQDvlN4xAEu",
        "outputId": "d69fe3b9-9c69-4e2d-da71-f9610264b536",
        "colab": {
          "base_uri": "https://localhost:8080/",
          "height": 34
        }
      },
      "source": [
        "print(r2_score(y_test, y_pred3))"
      ],
      "execution_count": null,
      "outputs": [
        {
          "output_type": "stream",
          "text": [
            "0.6125205090458208\n"
          ],
          "name": "stdout"
        }
      ]
    },
    {
      "cell_type": "markdown",
      "metadata": {
        "id": "ebJtekrwxW9Z"
      },
      "source": [
        "Random Forest "
      ]
    },
    {
      "cell_type": "code",
      "metadata": {
        "id": "NqJajjg9xRnF",
        "outputId": "ba4e7486-1e07-44da-89e0-b9d2460b90ea",
        "colab": {
          "base_uri": "https://localhost:8080/",
          "height": 136
        }
      },
      "source": [
        "from sklearn.ensemble import RandomForestRegressor\n",
        "rfr = RandomForestRegressor(n_estimators = 20, random_state = 0)\n",
        "rfr.fit(x_train, y_train)"
      ],
      "execution_count": null,
      "outputs": [
        {
          "output_type": "execute_result",
          "data": {
            "text/plain": [
              "RandomForestRegressor(bootstrap=True, ccp_alpha=0.0, criterion='mse',\n",
              "                      max_depth=None, max_features='auto', max_leaf_nodes=None,\n",
              "                      max_samples=None, min_impurity_decrease=0.0,\n",
              "                      min_impurity_split=None, min_samples_leaf=1,\n",
              "                      min_samples_split=2, min_weight_fraction_leaf=0.0,\n",
              "                      n_estimators=20, n_jobs=None, oob_score=False,\n",
              "                      random_state=0, verbose=0, warm_start=False)"
            ]
          },
          "metadata": {
            "tags": []
          },
          "execution_count": 74
        }
      ]
    },
    {
      "cell_type": "code",
      "metadata": {
        "id": "obK035yDyD63"
      },
      "source": [
        "y_pred4 = rfr.predict(x_test)"
      ],
      "execution_count": null,
      "outputs": []
    },
    {
      "cell_type": "code",
      "metadata": {
        "id": "tyLcXXCnyUwj",
        "outputId": "9baa58ce-6931-4b66-bde5-90a7bc32b34c",
        "colab": {
          "base_uri": "https://localhost:8080/",
          "height": 34
        }
      },
      "source": [
        "print(r2_score(y_test, y_pred4))"
      ],
      "execution_count": null,
      "outputs": [
        {
          "output_type": "stream",
          "text": [
            "0.8148826152949457\n"
          ],
          "name": "stdout"
        }
      ]
    },
    {
      "cell_type": "markdown",
      "metadata": {
        "id": "VwFhg7S0ylGJ"
      },
      "source": [
        "As we can see that our model of Random Forest Regressor gives the best results or the r2 score therefore that model is considered over others."
      ]
    }
  ]
}